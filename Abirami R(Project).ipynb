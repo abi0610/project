{
 "cells": [
  {
   "cell_type": "markdown",
   "id": "eb28b3dd",
   "metadata": {},
   "source": [
    "# Milk Quality Prediction"
   ]
  },
  {
   "cell_type": "markdown",
   "id": "430e24ff",
   "metadata": {},
   "source": [
    "# importing Libraries"
   ]
  },
  {
   "cell_type": "code",
   "execution_count": 1,
   "id": "0386b305",
   "metadata": {},
   "outputs": [],
   "source": [
    "import pandas as pd\n",
    "import numpy as np\n",
    "import matplotlib.pyplot as plt\n",
    "import seaborn as sns\n",
    "from sklearn.model_selection import train_test_split\n",
    "from sklearn.linear_model import LogisticRegression\n",
    "from sklearn.tree import DecisionTreeClassifier\n",
    "from sklearn.neighbors import KNeighborsClassifier\n",
    "from sklearn.naive_bayes import GaussianNB\n",
    "from sklearn.svm import SVC\n",
    "from sklearn.ensemble import RandomForestClassifier\n",
    "from sklearn.metrics import accuracy_score,confusion_matrix\n",
    "import warnings\n",
    "warnings.simplefilter(\"ignore\")"
   ]
  },
  {
   "cell_type": "markdown",
   "id": "642342f5",
   "metadata": {},
   "source": [
    "# Read csv file"
   ]
  },
  {
   "cell_type": "code",
   "execution_count": 2,
   "id": "3c97fca1",
   "metadata": {},
   "outputs": [],
   "source": [
    "data=pd.read_csv(\"C:/Users/Me/Desktop/milknew.csv\")"
   ]
  },
  {
   "cell_type": "code",
   "execution_count": null,
   "id": "ee6ee965",
   "metadata": {},
   "outputs": [],
   "source": [
    " ##If Taste, Odor, Fat, and Turbidity are satisfied with optimal conditions then they will assign 1 otherwise 0.\n",
    "##Temperature,colour and ph are given their actual values in the dataset."
   ]
  },
  {
   "cell_type": "code",
   "execution_count": 3,
   "id": "06b7d957",
   "metadata": {},
   "outputs": [
    {
     "data": {
      "text/html": [
       "<div>\n",
       "<style scoped>\n",
       "    .dataframe tbody tr th:only-of-type {\n",
       "        vertical-align: middle;\n",
       "    }\n",
       "\n",
       "    .dataframe tbody tr th {\n",
       "        vertical-align: top;\n",
       "    }\n",
       "\n",
       "    .dataframe thead th {\n",
       "        text-align: right;\n",
       "    }\n",
       "</style>\n",
       "<table border=\"1\" class=\"dataframe\">\n",
       "  <thead>\n",
       "    <tr style=\"text-align: right;\">\n",
       "      <th></th>\n",
       "      <th>pH</th>\n",
       "      <th>Temprature</th>\n",
       "      <th>Taste</th>\n",
       "      <th>Odor</th>\n",
       "      <th>Fat</th>\n",
       "      <th>Turbidity</th>\n",
       "      <th>Colour</th>\n",
       "      <th>Grade</th>\n",
       "    </tr>\n",
       "  </thead>\n",
       "  <tbody>\n",
       "    <tr>\n",
       "      <th>0</th>\n",
       "      <td>6.6</td>\n",
       "      <td>35</td>\n",
       "      <td>1</td>\n",
       "      <td>0</td>\n",
       "      <td>1</td>\n",
       "      <td>0</td>\n",
       "      <td>254</td>\n",
       "      <td>high</td>\n",
       "    </tr>\n",
       "    <tr>\n",
       "      <th>1</th>\n",
       "      <td>6.6</td>\n",
       "      <td>36</td>\n",
       "      <td>0</td>\n",
       "      <td>1</td>\n",
       "      <td>0</td>\n",
       "      <td>1</td>\n",
       "      <td>253</td>\n",
       "      <td>high</td>\n",
       "    </tr>\n",
       "    <tr>\n",
       "      <th>2</th>\n",
       "      <td>8.5</td>\n",
       "      <td>70</td>\n",
       "      <td>1</td>\n",
       "      <td>1</td>\n",
       "      <td>1</td>\n",
       "      <td>1</td>\n",
       "      <td>246</td>\n",
       "      <td>low</td>\n",
       "    </tr>\n",
       "    <tr>\n",
       "      <th>3</th>\n",
       "      <td>9.5</td>\n",
       "      <td>34</td>\n",
       "      <td>1</td>\n",
       "      <td>1</td>\n",
       "      <td>0</td>\n",
       "      <td>1</td>\n",
       "      <td>255</td>\n",
       "      <td>low</td>\n",
       "    </tr>\n",
       "  </tbody>\n",
       "</table>\n",
       "</div>"
      ],
      "text/plain": [
       "    pH  Temprature  Taste  Odor  Fat   Turbidity  Colour Grade\n",
       "0  6.6          35      1     0     1          0     254  high\n",
       "1  6.6          36      0     1     0          1     253  high\n",
       "2  8.5          70      1     1     1          1     246   low\n",
       "3  9.5          34      1     1     0          1     255   low"
      ]
     },
     "execution_count": 3,
     "metadata": {},
     "output_type": "execute_result"
    }
   ],
   "source": [
    "data.head(4)"
   ]
  },
  {
   "cell_type": "code",
   "execution_count": 4,
   "id": "eb640538",
   "metadata": {},
   "outputs": [
    {
     "data": {
      "text/html": [
       "<div>\n",
       "<style scoped>\n",
       "    .dataframe tbody tr th:only-of-type {\n",
       "        vertical-align: middle;\n",
       "    }\n",
       "\n",
       "    .dataframe tbody tr th {\n",
       "        vertical-align: top;\n",
       "    }\n",
       "\n",
       "    .dataframe thead th {\n",
       "        text-align: right;\n",
       "    }\n",
       "</style>\n",
       "<table border=\"1\" class=\"dataframe\">\n",
       "  <thead>\n",
       "    <tr style=\"text-align: right;\">\n",
       "      <th></th>\n",
       "      <th>pH</th>\n",
       "      <th>Temprature</th>\n",
       "      <th>Taste</th>\n",
       "      <th>Odor</th>\n",
       "      <th>Fat</th>\n",
       "      <th>Turbidity</th>\n",
       "      <th>Colour</th>\n",
       "      <th>Grade</th>\n",
       "    </tr>\n",
       "  </thead>\n",
       "  <tbody>\n",
       "    <tr>\n",
       "      <th>1056</th>\n",
       "      <td>3.0</td>\n",
       "      <td>40</td>\n",
       "      <td>1</td>\n",
       "      <td>1</td>\n",
       "      <td>1</td>\n",
       "      <td>1</td>\n",
       "      <td>255</td>\n",
       "      <td>low</td>\n",
       "    </tr>\n",
       "    <tr>\n",
       "      <th>1057</th>\n",
       "      <td>6.8</td>\n",
       "      <td>43</td>\n",
       "      <td>1</td>\n",
       "      <td>0</td>\n",
       "      <td>1</td>\n",
       "      <td>0</td>\n",
       "      <td>250</td>\n",
       "      <td>high</td>\n",
       "    </tr>\n",
       "    <tr>\n",
       "      <th>1058</th>\n",
       "      <td>8.6</td>\n",
       "      <td>55</td>\n",
       "      <td>0</td>\n",
       "      <td>1</td>\n",
       "      <td>1</td>\n",
       "      <td>1</td>\n",
       "      <td>255</td>\n",
       "      <td>low</td>\n",
       "    </tr>\n",
       "  </tbody>\n",
       "</table>\n",
       "</div>"
      ],
      "text/plain": [
       "       pH  Temprature  Taste  Odor  Fat   Turbidity  Colour Grade\n",
       "1056  3.0          40      1     1     1          1     255   low\n",
       "1057  6.8          43      1     0     1          0     250  high\n",
       "1058  8.6          55      0     1     1          1     255   low"
      ]
     },
     "execution_count": 4,
     "metadata": {},
     "output_type": "execute_result"
    }
   ],
   "source": [
    "data.tail(3)"
   ]
  },
  {
   "cell_type": "code",
   "execution_count": 5,
   "id": "8e9c8a1f",
   "metadata": {},
   "outputs": [
    {
     "data": {
      "text/plain": [
       "Index(['pH', 'Temprature', 'Taste', 'Odor', 'Fat ', 'Turbidity', 'Colour',\n",
       "       'Grade'],\n",
       "      dtype='object')"
      ]
     },
     "execution_count": 5,
     "metadata": {},
     "output_type": "execute_result"
    }
   ],
   "source": [
    "data.columns"
   ]
  },
  {
   "cell_type": "code",
   "execution_count": 6,
   "id": "1fc8f234",
   "metadata": {},
   "outputs": [
    {
     "data": {
      "text/plain": [
       "(1059, 8)"
      ]
     },
     "execution_count": 6,
     "metadata": {},
     "output_type": "execute_result"
    }
   ],
   "source": [
    "data.shape"
   ]
  },
  {
   "cell_type": "code",
   "execution_count": 7,
   "id": "4cb0903f",
   "metadata": {},
   "outputs": [
    {
     "data": {
      "text/plain": [
       "8472"
      ]
     },
     "execution_count": 7,
     "metadata": {},
     "output_type": "execute_result"
    }
   ],
   "source": [
    "data.size"
   ]
  },
  {
   "cell_type": "code",
   "execution_count": 8,
   "id": "ddca2aa2",
   "metadata": {},
   "outputs": [
    {
     "data": {
      "text/plain": [
       "pH            float64\n",
       "Temprature      int64\n",
       "Taste           int64\n",
       "Odor            int64\n",
       "Fat             int64\n",
       "Turbidity       int64\n",
       "Colour          int64\n",
       "Grade          object\n",
       "dtype: object"
      ]
     },
     "execution_count": 8,
     "metadata": {},
     "output_type": "execute_result"
    }
   ],
   "source": [
    "data.dtypes"
   ]
  },
  {
   "cell_type": "code",
   "execution_count": 9,
   "id": "09fb8a65",
   "metadata": {},
   "outputs": [
    {
     "name": "stdout",
     "output_type": "stream",
     "text": [
      "<class 'pandas.core.frame.DataFrame'>\n",
      "RangeIndex: 1059 entries, 0 to 1058\n",
      "Data columns (total 8 columns):\n",
      " #   Column      Non-Null Count  Dtype  \n",
      "---  ------      --------------  -----  \n",
      " 0   pH          1059 non-null   float64\n",
      " 1   Temprature  1059 non-null   int64  \n",
      " 2   Taste       1059 non-null   int64  \n",
      " 3   Odor        1059 non-null   int64  \n",
      " 4   Fat         1059 non-null   int64  \n",
      " 5   Turbidity   1059 non-null   int64  \n",
      " 6   Colour      1059 non-null   int64  \n",
      " 7   Grade       1059 non-null   object \n",
      "dtypes: float64(1), int64(6), object(1)\n",
      "memory usage: 66.3+ KB\n"
     ]
    }
   ],
   "source": [
    "data.info()"
   ]
  },
  {
   "cell_type": "code",
   "execution_count": 10,
   "id": "8bf86e44",
   "metadata": {},
   "outputs": [
    {
     "data": {
      "text/html": [
       "<div>\n",
       "<style scoped>\n",
       "    .dataframe tbody tr th:only-of-type {\n",
       "        vertical-align: middle;\n",
       "    }\n",
       "\n",
       "    .dataframe tbody tr th {\n",
       "        vertical-align: top;\n",
       "    }\n",
       "\n",
       "    .dataframe thead th {\n",
       "        text-align: right;\n",
       "    }\n",
       "</style>\n",
       "<table border=\"1\" class=\"dataframe\">\n",
       "  <thead>\n",
       "    <tr style=\"text-align: right;\">\n",
       "      <th></th>\n",
       "      <th>pH</th>\n",
       "      <th>Temprature</th>\n",
       "      <th>Taste</th>\n",
       "      <th>Odor</th>\n",
       "      <th>Fat</th>\n",
       "      <th>Turbidity</th>\n",
       "      <th>Colour</th>\n",
       "    </tr>\n",
       "  </thead>\n",
       "  <tbody>\n",
       "    <tr>\n",
       "      <th>count</th>\n",
       "      <td>1059.000000</td>\n",
       "      <td>1059.000000</td>\n",
       "      <td>1059.000000</td>\n",
       "      <td>1059.000000</td>\n",
       "      <td>1059.000000</td>\n",
       "      <td>1059.000000</td>\n",
       "      <td>1059.000000</td>\n",
       "    </tr>\n",
       "    <tr>\n",
       "      <th>mean</th>\n",
       "      <td>6.630123</td>\n",
       "      <td>44.226629</td>\n",
       "      <td>0.546742</td>\n",
       "      <td>0.432483</td>\n",
       "      <td>0.671388</td>\n",
       "      <td>0.491029</td>\n",
       "      <td>251.840415</td>\n",
       "    </tr>\n",
       "    <tr>\n",
       "      <th>std</th>\n",
       "      <td>1.399679</td>\n",
       "      <td>10.098364</td>\n",
       "      <td>0.498046</td>\n",
       "      <td>0.495655</td>\n",
       "      <td>0.469930</td>\n",
       "      <td>0.500156</td>\n",
       "      <td>4.307424</td>\n",
       "    </tr>\n",
       "    <tr>\n",
       "      <th>min</th>\n",
       "      <td>3.000000</td>\n",
       "      <td>34.000000</td>\n",
       "      <td>0.000000</td>\n",
       "      <td>0.000000</td>\n",
       "      <td>0.000000</td>\n",
       "      <td>0.000000</td>\n",
       "      <td>240.000000</td>\n",
       "    </tr>\n",
       "    <tr>\n",
       "      <th>25%</th>\n",
       "      <td>6.500000</td>\n",
       "      <td>38.000000</td>\n",
       "      <td>0.000000</td>\n",
       "      <td>0.000000</td>\n",
       "      <td>0.000000</td>\n",
       "      <td>0.000000</td>\n",
       "      <td>250.000000</td>\n",
       "    </tr>\n",
       "    <tr>\n",
       "      <th>50%</th>\n",
       "      <td>6.700000</td>\n",
       "      <td>41.000000</td>\n",
       "      <td>1.000000</td>\n",
       "      <td>0.000000</td>\n",
       "      <td>1.000000</td>\n",
       "      <td>0.000000</td>\n",
       "      <td>255.000000</td>\n",
       "    </tr>\n",
       "    <tr>\n",
       "      <th>75%</th>\n",
       "      <td>6.800000</td>\n",
       "      <td>45.000000</td>\n",
       "      <td>1.000000</td>\n",
       "      <td>1.000000</td>\n",
       "      <td>1.000000</td>\n",
       "      <td>1.000000</td>\n",
       "      <td>255.000000</td>\n",
       "    </tr>\n",
       "    <tr>\n",
       "      <th>max</th>\n",
       "      <td>9.500000</td>\n",
       "      <td>90.000000</td>\n",
       "      <td>1.000000</td>\n",
       "      <td>1.000000</td>\n",
       "      <td>1.000000</td>\n",
       "      <td>1.000000</td>\n",
       "      <td>255.000000</td>\n",
       "    </tr>\n",
       "  </tbody>\n",
       "</table>\n",
       "</div>"
      ],
      "text/plain": [
       "                pH   Temprature        Taste         Odor         Fat   \\\n",
       "count  1059.000000  1059.000000  1059.000000  1059.000000  1059.000000   \n",
       "mean      6.630123    44.226629     0.546742     0.432483     0.671388   \n",
       "std       1.399679    10.098364     0.498046     0.495655     0.469930   \n",
       "min       3.000000    34.000000     0.000000     0.000000     0.000000   \n",
       "25%       6.500000    38.000000     0.000000     0.000000     0.000000   \n",
       "50%       6.700000    41.000000     1.000000     0.000000     1.000000   \n",
       "75%       6.800000    45.000000     1.000000     1.000000     1.000000   \n",
       "max       9.500000    90.000000     1.000000     1.000000     1.000000   \n",
       "\n",
       "         Turbidity       Colour  \n",
       "count  1059.000000  1059.000000  \n",
       "mean      0.491029   251.840415  \n",
       "std       0.500156     4.307424  \n",
       "min       0.000000   240.000000  \n",
       "25%       0.000000   250.000000  \n",
       "50%       0.000000   255.000000  \n",
       "75%       1.000000   255.000000  \n",
       "max       1.000000   255.000000  "
      ]
     },
     "execution_count": 10,
     "metadata": {},
     "output_type": "execute_result"
    }
   ],
   "source": [
    "data.describe()"
   ]
  },
  {
   "cell_type": "code",
   "execution_count": 11,
   "id": "4676ff58",
   "metadata": {},
   "outputs": [
    {
     "data": {
      "text/plain": [
       "pH            0\n",
       "Temprature    0\n",
       "Taste         0\n",
       "Odor          0\n",
       "Fat           0\n",
       "Turbidity     0\n",
       "Colour        0\n",
       "Grade         0\n",
       "dtype: int64"
      ]
     },
     "execution_count": 11,
     "metadata": {},
     "output_type": "execute_result"
    }
   ],
   "source": [
    "data.isnull().sum()"
   ]
  },
  {
   "cell_type": "code",
   "execution_count": 12,
   "id": "a1aa4e43",
   "metadata": {},
   "outputs": [
    {
     "data": {
      "text/plain": [
       "pH            16\n",
       "Temprature    17\n",
       "Taste          2\n",
       "Odor           2\n",
       "Fat            2\n",
       "Turbidity      2\n",
       "Colour         9\n",
       "Grade          3\n",
       "dtype: int64"
      ]
     },
     "execution_count": 12,
     "metadata": {},
     "output_type": "execute_result"
    }
   ],
   "source": [
    "data.nunique()"
   ]
  },
  {
   "cell_type": "code",
   "execution_count": 13,
   "id": "a5fc9914",
   "metadata": {},
   "outputs": [
    {
     "data": {
      "text/plain": [
       "array(['high', 'low', 'medium'], dtype=object)"
      ]
     },
     "execution_count": 13,
     "metadata": {},
     "output_type": "execute_result"
    }
   ],
   "source": [
    "data[\"Grade\"].unique()"
   ]
  },
  {
   "cell_type": "code",
   "execution_count": 14,
   "id": "18cd09ab",
   "metadata": {},
   "outputs": [
    {
     "data": {
      "text/plain": [
       "low       429\n",
       "medium    374\n",
       "high      256\n",
       "Name: Grade, dtype: int64"
      ]
     },
     "execution_count": 14,
     "metadata": {},
     "output_type": "execute_result"
    }
   ],
   "source": [
    "data[\"Grade\"].value_counts()"
   ]
  },
  {
   "cell_type": "markdown",
   "id": "ea32178e",
   "metadata": {},
   "source": [
    "# visuvalize the dataset "
   ]
  },
  {
   "cell_type": "code",
   "execution_count": 16,
   "id": "6b46bc59",
   "metadata": {},
   "outputs": [
    {
     "data": {
      "text/plain": [
       "Text(0.5, 1.0, 'Grade Based on pH')"
      ]
     },
     "execution_count": 16,
     "metadata": {},
     "output_type": "execute_result"
    },
    {
     "data": {
      "image/png": "[encoded data removed]",
      "text/plain": [
       "<Figure size 576x360 with 1 Axes>"
      ]
     },
     "metadata": {
      "needs_background": "light"
     },
     "output_type": "display_data"
    }
   ],
   "source": [
    "plt.figure(figsize=(8,5))\n",
    "sns.barplot(data=data,x=\"Grade\",y=\"pH\")\n",
    "plt.title(\"Grade Based on pH\")"
   ]
  },
  {
   "cell_type": "code",
   "execution_count": 17,
   "id": "524001ca",
   "metadata": {},
   "outputs": [
    {
     "data": {
      "text/plain": [
       "Text(0.5, 1.0, 'Grade Based on Temprature')"
      ]
     },
     "execution_count": 17,
     "metadata": {},
     "output_type": "execute_result"
    },
    {
     "data": {
      "image/png": "[encoded data removed]",
      "text/plain": [
       "<Figure size 576x360 with 1 Axes>"
      ]
     },
     "metadata": {
      "needs_background": "light"
     },
     "output_type": "display_data"
    }
   ],
   "source": [
    "plt.figure(figsize=(8,5))\n",
    "sns.barplot(data=data,x=\"Grade\",y=\"Temprature\")\n",
    "plt.title(\"Grade Based on Temprature\")"
   ]
  },
  {
   "cell_type": "code",
   "execution_count": 18,
   "id": "9c4006ec",
   "metadata": {},
   "outputs": [
    {
     "data": {
      "text/plain": [
       "Text(0.5, 1.0, 'Grade Based on Taste')"
      ]
     },
     "execution_count": 18,
     "metadata": {},
     "output_type": "execute_result"
    },
    {
     "data": {
      "image/png": "[encoded data removed]",
      "text/plain": [
       "<Figure size 576x360 with 1 Axes>"
      ]
     },
     "metadata": {
      "needs_background": "light"
     },
     "output_type": "display_data"
    }
   ],
   "source": [
    "plt.figure(figsize=(8,5))\n",
    "sns.barplot(data=data,x=\"Grade\",y=\"Taste\")\n",
    "plt.title(\"Grade Based on Taste\")"
   ]
  },
  {
   "cell_type": "code",
   "execution_count": 19,
   "id": "79e93052",
   "metadata": {},
   "outputs": [
    {
     "data": {
      "text/plain": [
       "Text(0.5, 1.0, 'Grade Based on Odor')"
      ]
     },
     "execution_count": 19,
     "metadata": {},
     "output_type": "execute_result"
    },
    {
     "data": {
      "image/png": "[encoded data removed]",
      "text/plain": [
       "<Figure size 576x360 with 1 Axes>"
      ]
     },
     "metadata": {
      "needs_background": "light"
     },
     "output_type": "display_data"
    }
   ],
   "source": [
    "plt.figure(figsize=(8,5))\n",
    "sns.barplot(data=data,x=\"Grade\",y=\"Odor\")\n",
    "plt.title(\"Grade Based on Odor\")"
   ]
  },
  {
   "cell_type": "code",
   "execution_count": 20,
   "id": "df04d2bf",
   "metadata": {},
   "outputs": [
    {
     "data": {
      "text/plain": [
       "Text(0.5, 1.0, 'Grade Based on Turbidity')"
      ]
     },
     "execution_count": 20,
     "metadata": {},
     "output_type": "execute_result"
    },
    {
     "data": {
      "image/png": "[encoded data removed]",
      "text/plain": [
       "<Figure size 576x360 with 1 Axes>"
      ]
     },
     "metadata": {
      "needs_background": "light"
     },
     "output_type": "display_data"
    }
   ],
   "source": [
    "plt.figure(figsize=(8,5))\n",
    "sns.barplot(data=data,x=\"Grade\",y=\"Turbidity\")\n",
    "plt.title(\"Grade Based on Turbidity\")"
   ]
  },
  {
   "cell_type": "code",
   "execution_count": null,
   "id": "9f4c3d36",
   "metadata": {},
   "outputs": [],
   "source": []
  },
  {
   "cell_type": "code",
   "execution_count": 21,
   "id": "1e2ba642",
   "metadata": {},
   "outputs": [
    {
     "data": {
      "text/plain": [
       "<AxesSubplot:>"
      ]
     },
     "execution_count": 21,
     "metadata": {},
     "output_type": "execute_result"
    },
    {
     "data": {
      "image/png": "[encoded data removed]",
      "text/plain": [
       "<Figure size 720x720 with 2 Axes>"
      ]
     },
     "metadata": {
      "needs_background": "light"
     },
     "output_type": "display_data"
    }
   ],
   "source": [
    "plt.figure(figsize=(10,10))\n",
    "sns.heatmap(data.corr(),annot=True)"
   ]
  },
  {
   "cell_type": "code",
   "execution_count": 22,
   "id": "2ed19d48",
   "metadata": {},
   "outputs": [],
   "source": [
    "##Turbidity and Odor of the milk are highly correlated."
   ]
  },
  {
   "cell_type": "code",
   "execution_count": 23,
   "id": "bab41ce4",
   "metadata": {},
   "outputs": [
    {
     "data": {
      "text/plain": [
       "<AxesSubplot:title={'center':'Milk Quality'}>"
      ]
     },
     "execution_count": 23,
     "metadata": {},
     "output_type": "execute_result"
    },
    {
     "data": {
      "image/png": "[encoded data removed]",
      "text/plain": [
       "<Figure size 864x720 with 1 Axes>"
      ]
     },
     "metadata": {
      "needs_background": "light"
     },
     "output_type": "display_data"
    }
   ],
   "source": [
    "data.plot(kind=\"box\",title=\"Milk Quality\",color=\"red\",figsize=(12,10))"
   ]
  },
  {
   "cell_type": "code",
   "execution_count": 24,
   "id": "cd936f46",
   "metadata": {},
   "outputs": [
    {
     "data": {
      "text/plain": [
       "<AxesSubplot:>"
      ]
     },
     "execution_count": 24,
     "metadata": {},
     "output_type": "execute_result"
    },
    {
     "data": {
      "image/png": "[encoded data removed]",
      "text/plain": [
       "<Figure size 720x720 with 1 Axes>"
      ]
     },
     "metadata": {
      "needs_background": "light"
     },
     "output_type": "display_data"
    }
   ],
   "source": [
    "data.Temprature.plot(kind=\"box\",figsize=(10,10),color=\"red\")"
   ]
  },
  {
   "cell_type": "code",
   "execution_count": 25,
   "id": "0782797b",
   "metadata": {},
   "outputs": [],
   "source": [
    "data=data[data.Temprature<58]"
   ]
  },
  {
   "cell_type": "code",
   "execution_count": 26,
   "id": "39586ad8",
   "metadata": {},
   "outputs": [
    {
     "data": {
      "text/plain": [
       "<AxesSubplot:>"
      ]
     },
     "execution_count": 26,
     "metadata": {},
     "output_type": "execute_result"
    },
    {
     "data": {
      "image/png": "[encoded data removed]",
      "text/plain": [
       "<Figure size 720x720 with 1 Axes>"
      ]
     },
     "metadata": {
      "needs_background": "light"
     },
     "output_type": "display_data"
    }
   ],
   "source": [
    "data.Temprature.plot(kind=\"box\",figsize=(10,10),color=\"red\")"
   ]
  },
  {
   "cell_type": "code",
   "execution_count": 27,
   "id": "5504ea0d",
   "metadata": {},
   "outputs": [
    {
     "data": {
      "text/plain": [
       "pH            0\n",
       "Temprature    0\n",
       "Taste         0\n",
       "Odor          0\n",
       "Fat           0\n",
       "Turbidity     0\n",
       "Colour        0\n",
       "Grade         0\n",
       "dtype: int64"
      ]
     },
     "execution_count": 27,
     "metadata": {},
     "output_type": "execute_result"
    }
   ],
   "source": [
    "data.isnull().sum()"
   ]
  },
  {
   "cell_type": "markdown",
   "id": "d394d1cc",
   "metadata": {},
   "source": [
    "# split the data"
   ]
  },
  {
   "cell_type": "code",
   "execution_count": 28,
   "id": "4dda21e8",
   "metadata": {},
   "outputs": [],
   "source": [
    "x=data.drop(\"Grade\",axis=1)\n",
    "y=data.Grade"
   ]
  },
  {
   "cell_type": "code",
   "execution_count": 29,
   "id": "7f926ecc",
   "metadata": {},
   "outputs": [],
   "source": [
    "x_train,x_test,y_train,y_test=train_test_split(x,y,test_size=0.3,random_state=12)\n"
   ]
  },
  {
   "cell_type": "code",
   "execution_count": 30,
   "id": "d8d3332f",
   "metadata": {},
   "outputs": [
    {
     "data": {
      "text/html": [
       "<div>\n",
       "<style scoped>\n",
       "    .dataframe tbody tr th:only-of-type {\n",
       "        vertical-align: middle;\n",
       "    }\n",
       "\n",
       "    .dataframe tbody tr th {\n",
       "        vertical-align: top;\n",
       "    }\n",
       "\n",
       "    .dataframe thead th {\n",
       "        text-align: right;\n",
       "    }\n",
       "</style>\n",
       "<table border=\"1\" class=\"dataframe\">\n",
       "  <thead>\n",
       "    <tr style=\"text-align: right;\">\n",
       "      <th></th>\n",
       "      <th>pH</th>\n",
       "      <th>Temprature</th>\n",
       "      <th>Taste</th>\n",
       "      <th>Odor</th>\n",
       "      <th>Fat</th>\n",
       "      <th>Turbidity</th>\n",
       "      <th>Colour</th>\n",
       "    </tr>\n",
       "  </thead>\n",
       "  <tbody>\n",
       "    <tr>\n",
       "      <th>191</th>\n",
       "      <td>6.8</td>\n",
       "      <td>45</td>\n",
       "      <td>0</td>\n",
       "      <td>0</td>\n",
       "      <td>1</td>\n",
       "      <td>0</td>\n",
       "      <td>255</td>\n",
       "    </tr>\n",
       "    <tr>\n",
       "      <th>47</th>\n",
       "      <td>6.8</td>\n",
       "      <td>45</td>\n",
       "      <td>1</td>\n",
       "      <td>1</td>\n",
       "      <td>1</td>\n",
       "      <td>0</td>\n",
       "      <td>245</td>\n",
       "    </tr>\n",
       "    <tr>\n",
       "      <th>680</th>\n",
       "      <td>9.0</td>\n",
       "      <td>43</td>\n",
       "      <td>1</td>\n",
       "      <td>0</td>\n",
       "      <td>1</td>\n",
       "      <td>1</td>\n",
       "      <td>250</td>\n",
       "    </tr>\n",
       "  </tbody>\n",
       "</table>\n",
       "</div>"
      ],
      "text/plain": [
       "      pH  Temprature  Taste  Odor  Fat   Turbidity  Colour\n",
       "191  6.8          45      0     0     1          0     255\n",
       "47   6.8          45      1     1     1          0     245\n",
       "680  9.0          43      1     0     1          1     250"
      ]
     },
     "execution_count": 30,
     "metadata": {},
     "output_type": "execute_result"
    }
   ],
   "source": [
    "x_train.head(3)"
   ]
  },
  {
   "cell_type": "code",
   "execution_count": 31,
   "id": "6784ec9e",
   "metadata": {},
   "outputs": [
    {
     "data": {
      "text/plain": [
       "191    medium\n",
       "47       high\n",
       "680       low\n",
       "Name: Grade, dtype: object"
      ]
     },
     "execution_count": 31,
     "metadata": {},
     "output_type": "execute_result"
    }
   ],
   "source": [
    "y_train.head(3)"
   ]
  },
  {
   "cell_type": "code",
   "execution_count": 32,
   "id": "572b6283",
   "metadata": {},
   "outputs": [
    {
     "data": {
      "text/plain": [
       "((669, 7), (669,))"
      ]
     },
     "execution_count": 32,
     "metadata": {},
     "output_type": "execute_result"
    }
   ],
   "source": [
    "x_train.shape,y_train.shape"
   ]
  },
  {
   "cell_type": "code",
   "execution_count": 33,
   "id": "3f5959e8",
   "metadata": {},
   "outputs": [
    {
     "data": {
      "text/plain": [
       "((287, 7), (287,))"
      ]
     },
     "execution_count": 33,
     "metadata": {},
     "output_type": "execute_result"
    }
   ],
   "source": [
    "x_test.shape,y_test.shape"
   ]
  },
  {
   "cell_type": "markdown",
   "id": "151df91e",
   "metadata": {},
   "source": [
    "# LogisticRegression"
   ]
  },
  {
   "cell_type": "code",
   "execution_count": 34,
   "id": "614fd94d",
   "metadata": {},
   "outputs": [],
   "source": [
    "log_model=LogisticRegression()"
   ]
  },
  {
   "cell_type": "code",
   "execution_count": 35,
   "id": "3efd6a50",
   "metadata": {},
   "outputs": [
    {
     "data": {
      "text/plain": [
       "LogisticRegression()"
      ]
     },
     "execution_count": 35,
     "metadata": {},
     "output_type": "execute_result"
    }
   ],
   "source": [
    "log_model.fit(x_train,y_train)"
   ]
  },
  {
   "cell_type": "code",
   "execution_count": 36,
   "id": "2458f00a",
   "metadata": {},
   "outputs": [],
   "source": [
    "logistic_pred=log_model.predict(x_test)"
   ]
  },
  {
   "cell_type": "code",
   "execution_count": 37,
   "id": "70f44dbc",
   "metadata": {},
   "outputs": [
    {
     "data": {
      "text/plain": [
       "array(['high', 'low', 'low', 'medium', 'low', 'medium', 'medium',\n",
       "       'medium', 'medium', 'high', 'medium', 'low', 'medium', 'medium',\n",
       "       'medium', 'high', 'medium', 'low', 'low', 'low', 'low', 'low',\n",
       "       'high', 'medium', 'high', 'low', 'medium', 'medium', 'low',\n",
       "       'medium', 'medium', 'high', 'medium', 'low', 'high', 'low',\n",
       "       'medium', 'low', 'medium', 'medium', 'low', 'medium', 'low', 'low',\n",
       "       'high', 'low', 'medium', 'low', 'high', 'medium', 'medium',\n",
       "       'medium', 'low', 'low', 'medium', 'low', 'low', 'low', 'low',\n",
       "       'medium', 'low', 'low', 'high', 'medium', 'medium', 'medium',\n",
       "       'medium', 'low', 'medium', 'low', 'low', 'medium', 'high', 'low',\n",
       "       'low', 'low', 'low', 'medium', 'medium', 'low', 'high', 'low',\n",
       "       'low', 'high', 'low', 'medium', 'high', 'medium', 'medium',\n",
       "       'medium', 'low', 'medium', 'high', 'high', 'low', 'medium',\n",
       "       'medium', 'medium', 'medium', 'high', 'low', 'high', 'medium',\n",
       "       'medium', 'low', 'high', 'low', 'low', 'high', 'low', 'low',\n",
       "       'medium', 'high', 'medium', 'low', 'low', 'high', 'low', 'low',\n",
       "       'low', 'medium', 'high', 'high', 'medium', 'medium', 'medium',\n",
       "       'medium', 'high', 'medium', 'low', 'low', 'medium', 'high',\n",
       "       'medium', 'medium', 'low', 'low', 'medium', 'low', 'medium', 'low',\n",
       "       'high', 'medium', 'high', 'high', 'low', 'high', 'low', 'high',\n",
       "       'medium', 'low', 'high', 'medium', 'high', 'low', 'low', 'low',\n",
       "       'medium', 'low', 'medium', 'medium', 'low', 'high', 'medium',\n",
       "       'medium', 'low', 'medium', 'low', 'low', 'medium', 'high',\n",
       "       'medium', 'medium', 'low', 'medium', 'high', 'medium', 'high',\n",
       "       'medium', 'high', 'medium', 'medium', 'medium', 'low', 'high',\n",
       "       'medium', 'high', 'medium', 'low', 'low', 'medium', 'medium',\n",
       "       'medium', 'low', 'medium', 'low', 'medium', 'high', 'medium',\n",
       "       'low', 'low', 'medium', 'low', 'low', 'high', 'medium', 'low',\n",
       "       'low', 'low', 'low', 'low', 'medium', 'high', 'low', 'medium',\n",
       "       'medium', 'low', 'high', 'medium', 'low', 'medium', 'low', 'high',\n",
       "       'medium', 'medium', 'medium', 'low', 'low', 'medium', 'medium',\n",
       "       'high', 'low', 'high', 'low', 'low', 'low', 'low', 'low', 'high',\n",
       "       'low', 'high', 'high', 'low', 'medium', 'medium', 'low', 'medium',\n",
       "       'high', 'high', 'medium', 'medium', 'medium', 'low', 'medium',\n",
       "       'medium', 'high', 'low', 'medium', 'medium', 'medium', 'high',\n",
       "       'low', 'medium', 'medium', 'medium', 'high', 'medium', 'high',\n",
       "       'medium', 'medium', 'low', 'low', 'high', 'low', 'medium',\n",
       "       'medium', 'medium', 'low', 'high', 'low', 'high', 'low', 'high',\n",
       "       'high', 'medium', 'medium', 'medium'], dtype=object)"
      ]
     },
     "execution_count": 37,
     "metadata": {},
     "output_type": "execute_result"
    }
   ],
   "source": [
    "logistic_pred"
   ]
  },
  {
   "cell_type": "code",
   "execution_count": 38,
   "id": "c4ca6678",
   "metadata": {},
   "outputs": [
    {
     "name": "stdout",
     "output_type": "stream",
     "text": [
      "The accuracy of Logistic Regression:  0.710801393728223\n"
     ]
    }
   ],
   "source": [
    "print(\"The accuracy of Logistic Regression: \",accuracy_score(y_test,logistic_pred))"
   ]
  },
  {
   "cell_type": "code",
   "execution_count": 39,
   "id": "769be88b",
   "metadata": {},
   "outputs": [
    {
     "data": {
      "text/plain": [
       "array([[ 36,  26,  10],\n",
       "       [ 20,  68,   9],\n",
       "       [  5,  13, 100]], dtype=int64)"
      ]
     },
     "execution_count": 39,
     "metadata": {},
     "output_type": "execute_result"
    }
   ],
   "source": [
    "confusion_matrix(y_test,logistic_pred)"
   ]
  },
  {
   "cell_type": "markdown",
   "id": "9eea825f",
   "metadata": {},
   "source": [
    "# DecisionTree"
   ]
  },
  {
   "cell_type": "code",
   "execution_count": 40,
   "id": "ef36b764",
   "metadata": {},
   "outputs": [],
   "source": [
    "DT_model=DecisionTreeClassifier()"
   ]
  },
  {
   "cell_type": "code",
   "execution_count": 41,
   "id": "f8a3a7a1",
   "metadata": {},
   "outputs": [
    {
     "data": {
      "text/plain": [
       "DecisionTreeClassifier()"
      ]
     },
     "execution_count": 41,
     "metadata": {},
     "output_type": "execute_result"
    }
   ],
   "source": [
    "DT_model.fit(x_train,y_train)"
   ]
  },
  {
   "cell_type": "code",
   "execution_count": 42,
   "id": "a3018ffb",
   "metadata": {},
   "outputs": [
    {
     "data": {
      "image/png": "[encoded data removed]",
      "text/plain": [
       "<Figure size 720x1080 with 1 Axes>"
      ]
     },
     "metadata": {
      "needs_background": "light"
     },
     "output_type": "display_data"
    }
   ],
   "source": [
    "from sklearn.tree import plot_tree\n",
    "plt.figure(figsize=(10,15))\n",
    "decision_tree=plot_tree(decision_tree=DT_model,feature_names=x.columns,fontsize=8,filled=True)"
   ]
  },
  {
   "cell_type": "code",
   "execution_count": 43,
   "id": "a7b669f5",
   "metadata": {},
   "outputs": [],
   "source": [
    "DT_pred=DT_model.predict(x_test)"
   ]
  },
  {
   "cell_type": "code",
   "execution_count": 44,
   "id": "36ac9edc",
   "metadata": {},
   "outputs": [
    {
     "data": {
      "text/plain": [
       "array(['high', 'high', 'low', 'medium', 'low', 'medium', 'low', 'medium',\n",
       "       'low', 'high', 'medium', 'medium', 'medium', 'medium', 'medium',\n",
       "       'high', 'high', 'low', 'medium', 'low', 'low', 'medium', 'low',\n",
       "       'medium', 'low', 'low', 'medium', 'medium', 'medium', 'medium',\n",
       "       'medium', 'medium', 'medium', 'low', 'high', 'high', 'medium',\n",
       "       'low', 'medium', 'medium', 'low', 'medium', 'low', 'low', 'high',\n",
       "       'low', 'medium', 'low', 'high', 'medium', 'medium', 'medium',\n",
       "       'high', 'low', 'medium', 'low', 'low', 'low', 'low', 'medium',\n",
       "       'low', 'low', 'high', 'medium', 'medium', 'medium', 'high', 'low',\n",
       "       'medium', 'low', 'low', 'medium', 'high', 'low', 'low', 'low',\n",
       "       'medium', 'medium', 'medium', 'high', 'low', 'high', 'low', 'low',\n",
       "       'low', 'medium', 'high', 'medium', 'medium', 'medium', 'high',\n",
       "       'medium', 'high', 'medium', 'low', 'medium', 'medium', 'medium',\n",
       "       'low', 'high', 'low', 'low', 'medium', 'low', 'low', 'high', 'low',\n",
       "       'low', 'high', 'low', 'high', 'medium', 'high', 'low', 'high',\n",
       "       'high', 'high', 'low', 'low', 'high', 'medium', 'low', 'medium',\n",
       "       'medium', 'medium', 'medium', 'medium', 'high', 'medium', 'low',\n",
       "       'low', 'medium', 'high', 'medium', 'medium', 'low', 'low', 'high',\n",
       "       'low', 'medium', 'high', 'high', 'medium', 'low', 'low', 'high',\n",
       "       'high', 'high', 'high', 'high', 'high', 'high', 'medium', 'high',\n",
       "       'medium', 'medium', 'high', 'medium', 'low', 'medium', 'high',\n",
       "       'high', 'low', 'medium', 'medium', 'medium', 'medium', 'high',\n",
       "       'low', 'medium', 'low', 'medium', 'medium', 'low', 'medium',\n",
       "       'high', 'medium', 'high', 'high', 'low', 'medium', 'medium',\n",
       "       'medium', 'medium', 'high', 'medium', 'medium', 'medium', 'low',\n",
       "       'low', 'medium', 'medium', 'medium', 'low', 'medium', 'low',\n",
       "       'medium', 'low', 'medium', 'low', 'low', 'low', 'low', 'low',\n",
       "       'high', 'high', 'low', 'medium', 'low', 'high', 'low', 'medium',\n",
       "       'low', 'medium', 'medium', 'medium', 'high', 'high', 'medium',\n",
       "       'low', 'medium', 'high', 'low', 'high', 'high', 'medium', 'high',\n",
       "       'high', 'medium', 'medium', 'high', 'high', 'high', 'high', 'low',\n",
       "       'high', 'low', 'low', 'high', 'low', 'high', 'high', 'low',\n",
       "       'medium', 'medium', 'low', 'medium', 'high', 'low', 'medium',\n",
       "       'medium', 'low', 'high', 'medium', 'medium', 'low', 'medium',\n",
       "       'medium', 'medium', 'medium', 'low', 'low', 'medium', 'high',\n",
       "       'medium', 'high', 'medium', 'low', 'low', 'medium', 'low', 'low',\n",
       "       'high', 'low', 'low', 'medium', 'medium', 'medium', 'high', 'low',\n",
       "       'medium', 'low', 'high', 'high', 'medium', 'medium', 'medium'],\n",
       "      dtype=object)"
      ]
     },
     "execution_count": 44,
     "metadata": {},
     "output_type": "execute_result"
    }
   ],
   "source": [
    "DT_pred"
   ]
  },
  {
   "cell_type": "code",
   "execution_count": 45,
   "id": "7bbc70fe",
   "metadata": {},
   "outputs": [
    {
     "name": "stdout",
     "output_type": "stream",
     "text": [
      "The accuracy of Decision Tree:  0.9930313588850174\n"
     ]
    }
   ],
   "source": [
    "print(\"The accuracy of Decision Tree: \",accuracy_score(y_test,DT_pred))"
   ]
  },
  {
   "cell_type": "code",
   "execution_count": 46,
   "id": "10e86a48",
   "metadata": {},
   "outputs": [
    {
     "data": {
      "text/plain": [
       "array([[ 72,   0,   0],\n",
       "       [  2,  95,   0],\n",
       "       [  0,   0, 118]], dtype=int64)"
      ]
     },
     "execution_count": 46,
     "metadata": {},
     "output_type": "execute_result"
    }
   ],
   "source": [
    "confusion_matrix(y_test,DT_pred)"
   ]
  },
  {
   "cell_type": "markdown",
   "id": "9c287cf0",
   "metadata": {},
   "source": [
    "# KNNeighbour"
   ]
  },
  {
   "cell_type": "code",
   "execution_count": 47,
   "id": "dcb84604",
   "metadata": {},
   "outputs": [],
   "source": [
    "knn_model=KNeighborsClassifier(15)"
   ]
  },
  {
   "cell_type": "code",
   "execution_count": 48,
   "id": "c44b5d00",
   "metadata": {},
   "outputs": [
    {
     "data": {
      "text/plain": [
       "KNeighborsClassifier(n_neighbors=15)"
      ]
     },
     "execution_count": 48,
     "metadata": {},
     "output_type": "execute_result"
    }
   ],
   "source": [
    "knn_model.fit(x_train,y_train)"
   ]
  },
  {
   "cell_type": "code",
   "execution_count": 49,
   "id": "d5fc3b6a",
   "metadata": {},
   "outputs": [],
   "source": [
    "knn_pred=knn_model.predict(x_test)"
   ]
  },
  {
   "cell_type": "code",
   "execution_count": 50,
   "id": "acc1f64d",
   "metadata": {},
   "outputs": [
    {
     "data": {
      "text/plain": [
       "array(['medium', 'high', 'low', 'medium', 'low', 'medium', 'low',\n",
       "       'medium', 'low', 'high', 'medium', 'high', 'medium', 'medium',\n",
       "       'medium', 'high', 'medium', 'low', 'high', 'low', 'low', 'medium',\n",
       "       'low', 'medium', 'low', 'low', 'medium', 'medium', 'medium',\n",
       "       'medium', 'medium', 'medium', 'medium', 'low', 'high', 'high',\n",
       "       'medium', 'low', 'medium', 'medium', 'low', 'medium', 'medium',\n",
       "       'low', 'high', 'low', 'medium', 'low', 'medium', 'medium',\n",
       "       'medium', 'medium', 'high', 'low', 'medium', 'low', 'low', 'low',\n",
       "       'low', 'medium', 'low', 'low', 'high', 'medium', 'medium',\n",
       "       'medium', 'high', 'low', 'medium', 'low', 'low', 'medium', 'high',\n",
       "       'medium', 'low', 'low', 'medium', 'medium', 'medium', 'high',\n",
       "       'low', 'high', 'low', 'low', 'low', 'medium', 'high', 'medium',\n",
       "       'medium', 'medium', 'high', 'medium', 'high', 'medium', 'low',\n",
       "       'medium', 'medium', 'medium', 'low', 'high', 'low', 'low',\n",
       "       'medium', 'low', 'low', 'high', 'low', 'low', 'medium', 'low',\n",
       "       'high', 'medium', 'high', 'low', 'high', 'high', 'high', 'low',\n",
       "       'low', 'high', 'medium', 'low', 'medium', 'medium', 'medium',\n",
       "       'medium', 'medium', 'high', 'medium', 'low', 'low', 'medium',\n",
       "       'high', 'medium', 'medium', 'low', 'low', 'high', 'low', 'medium',\n",
       "       'high', 'high', 'medium', 'low', 'low', 'high', 'high', 'high',\n",
       "       'high', 'high', 'high', 'high', 'medium', 'high', 'medium',\n",
       "       'medium', 'high', 'medium', 'low', 'medium', 'high', 'high', 'low',\n",
       "       'medium', 'medium', 'medium', 'medium', 'high', 'low', 'medium',\n",
       "       'low', 'medium', 'medium', 'medium', 'medium', 'high', 'medium',\n",
       "       'high', 'high', 'low', 'medium', 'medium', 'medium', 'medium',\n",
       "       'high', 'medium', 'medium', 'medium', 'low', 'low', 'medium',\n",
       "       'medium', 'medium', 'low', 'medium', 'low', 'medium', 'low',\n",
       "       'medium', 'low', 'low', 'low', 'low', 'low', 'medium', 'high',\n",
       "       'medium', 'high', 'low', 'high', 'low', 'medium', 'low', 'medium',\n",
       "       'medium', 'medium', 'high', 'high', 'medium', 'low', 'medium',\n",
       "       'high', 'low', 'high', 'high', 'medium', 'high', 'high', 'medium',\n",
       "       'medium', 'high', 'high', 'high', 'high', 'low', 'high', 'low',\n",
       "       'low', 'high', 'low', 'high', 'high', 'low', 'medium', 'medium',\n",
       "       'low', 'medium', 'high', 'low', 'medium', 'medium', 'low', 'high',\n",
       "       'medium', 'medium', 'low', 'high', 'medium', 'medium', 'medium',\n",
       "       'low', 'low', 'medium', 'medium', 'medium', 'medium', 'medium',\n",
       "       'low', 'low', 'medium', 'low', 'low', 'high', 'low', 'low',\n",
       "       'medium', 'medium', 'high', 'high', 'low', 'medium', 'low', 'high',\n",
       "       'high', 'medium', 'medium', 'medium'], dtype=object)"
      ]
     },
     "execution_count": 50,
     "metadata": {},
     "output_type": "execute_result"
    }
   ],
   "source": [
    "knn_pred"
   ]
  },
  {
   "cell_type": "code",
   "execution_count": 51,
   "id": "9af9185f",
   "metadata": {},
   "outputs": [
    {
     "name": "stdout",
     "output_type": "stream",
     "text": [
      "The accuracy of KNNeighbour:  0.9442508710801394\n"
     ]
    }
   ],
   "source": [
    "print(\"The accuracy of KNNeighbour: \",accuracy_score(y_test,knn_pred))"
   ]
  },
  {
   "cell_type": "code",
   "execution_count": 52,
   "id": "755b3ad7",
   "metadata": {},
   "outputs": [
    {
     "data": {
      "text/plain": [
       "array([[ 67,   0,   5],\n",
       "       [  0,  91,   6],\n",
       "       [  5,   0, 113]], dtype=int64)"
      ]
     },
     "execution_count": 52,
     "metadata": {},
     "output_type": "execute_result"
    }
   ],
   "source": [
    "confusion_matrix(y_test,knn_pred)"
   ]
  },
  {
   "cell_type": "markdown",
   "id": "bd8409b4",
   "metadata": {},
   "source": [
    "# Navie Bayes"
   ]
  },
  {
   "cell_type": "code",
   "execution_count": 53,
   "id": "24a12144",
   "metadata": {},
   "outputs": [],
   "source": [
    "model_nb=GaussianNB()"
   ]
  },
  {
   "cell_type": "code",
   "execution_count": 54,
   "id": "2511cc61",
   "metadata": {},
   "outputs": [
    {
     "data": {
      "text/plain": [
       "GaussianNB()"
      ]
     },
     "execution_count": 54,
     "metadata": {},
     "output_type": "execute_result"
    }
   ],
   "source": [
    "model_nb.fit(x_train,y_train)"
   ]
  },
  {
   "cell_type": "code",
   "execution_count": 55,
   "id": "1cc17b6f",
   "metadata": {},
   "outputs": [],
   "source": [
    "nb_pred=model_nb.predict(x_test)"
   ]
  },
  {
   "cell_type": "code",
   "execution_count": 56,
   "id": "8def041b",
   "metadata": {},
   "outputs": [
    {
     "data": {
      "text/plain": [
       "array(['high', 'high', 'low', 'medium', 'low', 'medium', 'low', 'medium',\n",
       "       'medium', 'high', 'medium', 'medium', 'medium', 'medium', 'medium',\n",
       "       'high', 'high', 'low', 'medium', 'low', 'low', 'medium', 'low',\n",
       "       'medium', 'low', 'low', 'medium', 'medium', 'medium', 'medium',\n",
       "       'medium', 'high', 'medium', 'low', 'high', 'high', 'medium', 'low',\n",
       "       'high', 'medium', 'low', 'medium', 'high', 'low', 'high', 'low',\n",
       "       'medium', 'low', 'high', 'medium', 'medium', 'medium', 'high',\n",
       "       'low', 'medium', 'low', 'low', 'low', 'low', 'medium', 'low',\n",
       "       'low', 'high', 'medium', 'medium', 'medium', 'high', 'low',\n",
       "       'medium', 'low', 'low', 'medium', 'high', 'high', 'low', 'low',\n",
       "       'low', 'medium', 'medium', 'high', 'low', 'high', 'low', 'low',\n",
       "       'low', 'medium', 'high', 'medium', 'medium', 'medium', 'high',\n",
       "       'medium', 'high', 'high', 'low', 'medium', 'medium', 'medium',\n",
       "       'low', 'high', 'low', 'low', 'medium', 'medium', 'low', 'high',\n",
       "       'low', 'low', 'high', 'low', 'high', 'medium', 'high', 'low',\n",
       "       'high', 'high', 'high', 'low', 'high', 'high', 'medium', 'low',\n",
       "       'high', 'medium', 'medium', 'medium', 'medium', 'high', 'medium',\n",
       "       'low', 'low', 'medium', 'high', 'medium', 'medium', 'low', 'low',\n",
       "       'high', 'low', 'medium', 'high', 'high', 'high', 'low', 'low',\n",
       "       'high', 'high', 'high', 'high', 'high', 'high', 'high', 'medium',\n",
       "       'high', 'medium', 'medium', 'high', 'medium', 'low', 'medium',\n",
       "       'high', 'high', 'low', 'medium', 'medium', 'medium', 'medium',\n",
       "       'high', 'low', 'medium', 'low', 'medium', 'medium', 'high',\n",
       "       'medium', 'high', 'medium', 'high', 'high', 'low', 'medium',\n",
       "       'medium', 'medium', 'medium', 'high', 'medium', 'high', 'medium',\n",
       "       'low', 'low', 'medium', 'medium', 'medium', 'low', 'medium', 'low',\n",
       "       'medium', 'low', 'medium', 'low', 'high', 'low', 'low', 'low',\n",
       "       'high', 'high', 'high', 'medium', 'low', 'high', 'low', 'medium',\n",
       "       'low', 'medium', 'high', 'medium', 'high', 'high', 'medium', 'low',\n",
       "       'medium', 'high', 'low', 'high', 'high', 'medium', 'high', 'high',\n",
       "       'medium', 'medium', 'high', 'high', 'high', 'high', 'low', 'high',\n",
       "       'low', 'low', 'high', 'low', 'high', 'high', 'low', 'medium',\n",
       "       'medium', 'low', 'medium', 'high', 'low', 'high', 'medium', 'low',\n",
       "       'high', 'medium', 'medium', 'low', 'medium', 'medium', 'medium',\n",
       "       'medium', 'low', 'low', 'medium', 'high', 'medium', 'high',\n",
       "       'medium', 'low', 'low', 'medium', 'low', 'low', 'high', 'low',\n",
       "       'medium', 'medium', 'medium', 'medium', 'high', 'low', 'high',\n",
       "       'low', 'high', 'high', 'medium', 'medium', 'high'], dtype='<U6')"
      ]
     },
     "execution_count": 56,
     "metadata": {},
     "output_type": "execute_result"
    }
   ],
   "source": [
    "nb_pred"
   ]
  },
  {
   "cell_type": "code",
   "execution_count": 57,
   "id": "dcdc7b8d",
   "metadata": {},
   "outputs": [
    {
     "name": "stdout",
     "output_type": "stream",
     "text": [
      "The accuracy of Naive Bayes:  0.9233449477351916\n"
     ]
    }
   ],
   "source": [
    "print(\"The accuracy of Naive Bayes: \",accuracy_score(y_test,nb_pred))"
   ]
  },
  {
   "cell_type": "code",
   "execution_count": 58,
   "id": "97675ce0",
   "metadata": {},
   "outputs": [
    {
     "data": {
      "text/plain": [
       "array([[ 72,   0,   0],\n",
       "       [  8,  86,   3],\n",
       "       [ 10,   1, 107]], dtype=int64)"
      ]
     },
     "execution_count": 58,
     "metadata": {},
     "output_type": "execute_result"
    }
   ],
   "source": [
    "confusion_matrix(y_test,nb_pred)"
   ]
  },
  {
   "cell_type": "markdown",
   "id": "ab6cbe32",
   "metadata": {},
   "source": [
    "# SVC(Support Vector Classifier)"
   ]
  },
  {
   "cell_type": "code",
   "execution_count": 59,
   "id": "94400f3c",
   "metadata": {},
   "outputs": [],
   "source": [
    "model_svc=SVC()"
   ]
  },
  {
   "cell_type": "code",
   "execution_count": 60,
   "id": "2acf14d6",
   "metadata": {},
   "outputs": [
    {
     "data": {
      "text/plain": [
       "SVC()"
      ]
     },
     "execution_count": 60,
     "metadata": {},
     "output_type": "execute_result"
    }
   ],
   "source": [
    "model_svc.fit(x_train,y_train)"
   ]
  },
  {
   "cell_type": "code",
   "execution_count": 61,
   "id": "c0fc9191",
   "metadata": {},
   "outputs": [],
   "source": [
    "svc_pred=model_svc.predict(x_test)"
   ]
  },
  {
   "cell_type": "code",
   "execution_count": 62,
   "id": "e2d83303",
   "metadata": {},
   "outputs": [
    {
     "data": {
      "text/plain": [
       "array(['medium', 'medium', 'medium', 'medium', 'medium', 'medium',\n",
       "       'medium', 'medium', 'medium', 'medium', 'medium', 'medium',\n",
       "       'medium', 'medium', 'medium', 'medium', 'medium', 'medium',\n",
       "       'medium', 'medium', 'medium', 'medium', 'medium', 'medium',\n",
       "       'medium', 'medium', 'medium', 'medium', 'medium', 'medium',\n",
       "       'medium', 'medium', 'medium', 'medium', 'medium', 'medium',\n",
       "       'medium', 'medium', 'medium', 'medium', 'medium', 'medium',\n",
       "       'medium', 'medium', 'medium', 'medium', 'medium', 'medium',\n",
       "       'medium', 'medium', 'medium', 'medium', 'medium', 'medium',\n",
       "       'medium', 'medium', 'medium', 'medium', 'medium', 'medium',\n",
       "       'medium', 'medium', 'medium', 'medium', 'medium', 'medium',\n",
       "       'medium', 'medium', 'medium', 'medium', 'medium', 'medium',\n",
       "       'medium', 'medium', 'medium', 'medium', 'medium', 'medium',\n",
       "       'medium', 'medium', 'medium', 'medium', 'medium', 'medium',\n",
       "       'medium', 'medium', 'medium', 'medium', 'medium', 'medium',\n",
       "       'medium', 'medium', 'medium', 'medium', 'medium', 'medium',\n",
       "       'medium', 'medium', 'medium', 'medium', 'medium', 'medium',\n",
       "       'medium', 'medium', 'medium', 'medium', 'medium', 'medium',\n",
       "       'medium', 'medium', 'medium', 'medium', 'medium', 'medium',\n",
       "       'medium', 'medium', 'medium', 'medium', 'medium', 'medium',\n",
       "       'medium', 'medium', 'medium', 'medium', 'medium', 'medium',\n",
       "       'medium', 'medium', 'medium', 'medium', 'medium', 'medium',\n",
       "       'medium', 'medium', 'medium', 'medium', 'medium', 'medium',\n",
       "       'medium', 'medium', 'medium', 'medium', 'medium', 'medium',\n",
       "       'medium', 'medium', 'medium', 'medium', 'medium', 'medium',\n",
       "       'medium', 'medium', 'medium', 'medium', 'medium', 'medium',\n",
       "       'medium', 'medium', 'medium', 'medium', 'medium', 'medium',\n",
       "       'medium', 'medium', 'medium', 'medium', 'medium', 'medium',\n",
       "       'medium', 'medium', 'medium', 'medium', 'medium', 'medium',\n",
       "       'medium', 'medium', 'medium', 'medium', 'medium', 'medium',\n",
       "       'medium', 'medium', 'medium', 'medium', 'medium', 'medium',\n",
       "       'medium', 'medium', 'medium', 'medium', 'medium', 'medium',\n",
       "       'medium', 'medium', 'medium', 'medium', 'medium', 'medium',\n",
       "       'medium', 'medium', 'medium', 'medium', 'medium', 'medium',\n",
       "       'medium', 'medium', 'medium', 'medium', 'medium', 'medium',\n",
       "       'medium', 'medium', 'medium', 'medium', 'medium', 'medium',\n",
       "       'medium', 'medium', 'medium', 'medium', 'medium', 'medium',\n",
       "       'medium', 'medium', 'medium', 'medium', 'medium', 'medium',\n",
       "       'medium', 'medium', 'medium', 'medium', 'medium', 'medium',\n",
       "       'medium', 'medium', 'medium', 'medium', 'medium', 'medium',\n",
       "       'medium', 'medium', 'medium', 'medium', 'medium', 'medium',\n",
       "       'medium', 'medium', 'medium', 'medium', 'medium', 'medium',\n",
       "       'medium', 'medium', 'medium', 'medium', 'medium', 'medium',\n",
       "       'medium', 'medium', 'medium', 'medium', 'medium', 'medium',\n",
       "       'medium', 'medium', 'medium', 'medium', 'medium', 'medium',\n",
       "       'medium', 'medium', 'medium', 'medium', 'medium', 'medium',\n",
       "       'medium', 'medium', 'medium', 'medium', 'medium', 'medium',\n",
       "       'medium', 'medium', 'medium', 'medium', 'medium'], dtype=object)"
      ]
     },
     "execution_count": 62,
     "metadata": {},
     "output_type": "execute_result"
    }
   ],
   "source": [
    "svc_pred"
   ]
  },
  {
   "cell_type": "code",
   "execution_count": 63,
   "id": "2561dcfe",
   "metadata": {},
   "outputs": [
    {
     "name": "stdout",
     "output_type": "stream",
     "text": [
      "The accuracy of SVC : 0.41114982578397213\n"
     ]
    }
   ],
   "source": [
    "print(\"The accuracy of SVC :\",accuracy_score(y_test,svc_pred))"
   ]
  },
  {
   "cell_type": "code",
   "execution_count": 64,
   "id": "fac3cc54",
   "metadata": {},
   "outputs": [
    {
     "data": {
      "text/plain": [
       "array([[  0,   0,  72],\n",
       "       [  0,   0,  97],\n",
       "       [  0,   0, 118]], dtype=int64)"
      ]
     },
     "execution_count": 64,
     "metadata": {},
     "output_type": "execute_result"
    }
   ],
   "source": [
    "confusion_matrix(y_test,svc_pred)"
   ]
  },
  {
   "cell_type": "markdown",
   "id": "4e3ec555",
   "metadata": {},
   "source": [
    "# Random Forest"
   ]
  },
  {
   "cell_type": "code",
   "execution_count": 65,
   "id": "e3243d59",
   "metadata": {},
   "outputs": [],
   "source": [
    "RF_model=RandomForestClassifier()"
   ]
  },
  {
   "cell_type": "code",
   "execution_count": 66,
   "id": "a483043e",
   "metadata": {},
   "outputs": [
    {
     "data": {
      "text/plain": [
       "RandomForestClassifier()"
      ]
     },
     "execution_count": 66,
     "metadata": {},
     "output_type": "execute_result"
    }
   ],
   "source": [
    "RF_model.fit(x_train,y_train)"
   ]
  },
  {
   "cell_type": "code",
   "execution_count": 67,
   "id": "c5960d00",
   "metadata": {},
   "outputs": [],
   "source": [
    "RF_pred=RF_model.predict(x_test)"
   ]
  },
  {
   "cell_type": "code",
   "execution_count": 68,
   "id": "d8ee9f56",
   "metadata": {},
   "outputs": [
    {
     "data": {
      "text/plain": [
       "array(['high', 'high', 'low', 'medium', 'low', 'medium', 'low', 'medium',\n",
       "       'low', 'high', 'medium', 'medium', 'medium', 'medium', 'medium',\n",
       "       'high', 'high', 'low', 'medium', 'low', 'low', 'medium', 'low',\n",
       "       'medium', 'low', 'low', 'medium', 'medium', 'medium', 'medium',\n",
       "       'medium', 'medium', 'medium', 'low', 'high', 'high', 'medium',\n",
       "       'low', 'medium', 'medium', 'low', 'medium', 'low', 'low', 'high',\n",
       "       'low', 'medium', 'low', 'high', 'medium', 'medium', 'medium',\n",
       "       'high', 'low', 'medium', 'low', 'low', 'low', 'low', 'medium',\n",
       "       'low', 'low', 'high', 'medium', 'medium', 'medium', 'high', 'low',\n",
       "       'medium', 'low', 'low', 'medium', 'high', 'low', 'low', 'low',\n",
       "       'medium', 'medium', 'medium', 'high', 'low', 'high', 'low', 'low',\n",
       "       'low', 'medium', 'high', 'medium', 'medium', 'medium', 'high',\n",
       "       'medium', 'high', 'medium', 'low', 'medium', 'medium', 'medium',\n",
       "       'low', 'high', 'low', 'low', 'medium', 'low', 'low', 'high', 'low',\n",
       "       'low', 'high', 'low', 'high', 'medium', 'high', 'low', 'high',\n",
       "       'high', 'high', 'low', 'low', 'high', 'medium', 'low', 'medium',\n",
       "       'medium', 'medium', 'medium', 'medium', 'high', 'medium', 'low',\n",
       "       'low', 'medium', 'high', 'medium', 'medium', 'low', 'low', 'high',\n",
       "       'low', 'medium', 'high', 'high', 'medium', 'low', 'low', 'high',\n",
       "       'high', 'high', 'high', 'high', 'high', 'high', 'medium', 'high',\n",
       "       'medium', 'medium', 'high', 'medium', 'low', 'medium', 'high',\n",
       "       'high', 'low', 'medium', 'medium', 'medium', 'medium', 'high',\n",
       "       'low', 'medium', 'low', 'medium', 'medium', 'low', 'medium',\n",
       "       'high', 'medium', 'high', 'high', 'low', 'medium', 'medium',\n",
       "       'medium', 'medium', 'high', 'medium', 'medium', 'medium', 'low',\n",
       "       'low', 'medium', 'medium', 'medium', 'low', 'medium', 'low',\n",
       "       'medium', 'low', 'medium', 'low', 'low', 'low', 'low', 'low',\n",
       "       'high', 'high', 'low', 'medium', 'low', 'high', 'low', 'medium',\n",
       "       'low', 'medium', 'medium', 'medium', 'high', 'high', 'medium',\n",
       "       'low', 'medium', 'high', 'low', 'high', 'high', 'medium', 'high',\n",
       "       'high', 'medium', 'medium', 'high', 'high', 'high', 'high', 'low',\n",
       "       'high', 'low', 'low', 'high', 'low', 'high', 'high', 'low',\n",
       "       'medium', 'medium', 'low', 'medium', 'high', 'low', 'medium',\n",
       "       'medium', 'low', 'high', 'medium', 'medium', 'low', 'medium',\n",
       "       'medium', 'medium', 'medium', 'low', 'low', 'medium', 'high',\n",
       "       'medium', 'high', 'medium', 'low', 'low', 'medium', 'low', 'low',\n",
       "       'high', 'low', 'low', 'medium', 'medium', 'medium', 'high', 'low',\n",
       "       'medium', 'low', 'high', 'high', 'medium', 'medium', 'medium'],\n",
       "      dtype=object)"
      ]
     },
     "execution_count": 68,
     "metadata": {},
     "output_type": "execute_result"
    }
   ],
   "source": [
    "RF_pred"
   ]
  },
  {
   "cell_type": "code",
   "execution_count": 69,
   "id": "291f9dac",
   "metadata": {},
   "outputs": [
    {
     "name": "stdout",
     "output_type": "stream",
     "text": [
      "The Accuracy of RandomForest: 0.9930313588850174\n"
     ]
    }
   ],
   "source": [
    "print(\"The Accuracy of RandomForest:\",accuracy_score(y_test,RF_pred))"
   ]
  },
  {
   "cell_type": "code",
   "execution_count": 70,
   "id": "f881db19",
   "metadata": {},
   "outputs": [
    {
     "data": {
      "text/plain": [
       "array([[ 72,   0,   0],\n",
       "       [  2,  95,   0],\n",
       "       [  0,   0, 118]], dtype=int64)"
      ]
     },
     "execution_count": 70,
     "metadata": {},
     "output_type": "execute_result"
    }
   ],
   "source": [
    "confusion_matrix(y_test,RF_pred)"
   ]
  },
  {
   "cell_type": "raw",
   "id": "d566dad2",
   "metadata": {},
   "source": [
    "The accuracy of Logistic Regression:  0.710801393728223\n",
    "The accuracy of Decision Tree:  0.9930313588850174\n",
    "The accuracy of KNNeighbour:  0.9442508710801394\n",
    "The accuracy of Naive Bayes:  0.9233449477351916\n",
    "The accuracy of SVC : 0.41114982578397213\n",
    "The accuracy ofRandomForest: 0.9930313588850174"
   ]
  },
  {
   "cell_type": "markdown",
   "id": "8f9f23cf",
   "metadata": {},
   "source": [
    "# find the quality of the milk for the input data"
   ]
  },
  {
   "cell_type": "code",
   "execution_count": 71,
   "id": "043de680",
   "metadata": {},
   "outputs": [
    {
     "name": "stdout",
     "output_type": "stream",
     "text": [
      "Enter the pH value: 4.5\n",
      "Enter the Temprature value: 36\n",
      "Enter the taste value: 1\n",
      "Enter the odor value:0\n",
      "Enter the fat value: 1\n",
      "Enter the turbidity value: 1\n",
      "Enter the colour: 245\n",
      "The quality of the milk is bad\n"
     ]
    }
   ],
   "source": [
    "pH=input(\"Enter the pH value: \")##input the value within 3-9.5 \n",
    "Temprature=input(\"Enter the Temprature value: \")##34-55\n",
    "Taste=input(\"Enter the taste value: \")## 0 or 1\n",
    "Odor=input(\"Enter the odor value:\")## 0 or 1\n",
    "Fat=input(\"Enter the fat value: \")## 0 or 1\n",
    "Turbidity=input(\"Enter the turbidity value: \") ##0 or 1\n",
    "Colour=input(\"Enter the colour: \")## 240-255\n",
    "Grade=RF_model.predict([[pH,Temprature,Taste,Odor,Fat,Turbidity,Colour]])\n",
    "if Grade==\"high\":\n",
    "    print(\"The quality of the milk is high\")\n",
    "elif Grade==\"medium\":\n",
    "    print(\"The quality of the milk is medium level\")\n",
    "else:\n",
    "    print(\"The quality of the milk is bad\")"
   ]
  },
  {
   "cell_type": "code",
   "execution_count": null,
   "id": "2d8e90f6",
   "metadata": {},
   "outputs": [],
   "source": []
  },
  {
   "cell_type": "code",
   "execution_count": null,
   "id": "544c6344",
   "metadata": {},
   "outputs": [],
   "source": []
  },
  {
   "cell_type": "code",
   "execution_count": null,
   "id": "79b43da2",
   "metadata": {},
   "outputs": [],
   "source": []
  }
 ],
 "metadata": {
  "kernelspec": {
   "display_name": "Python 3 (ipykernel)",
   "language": "python",
   "name": "python3"
  },
  "language_info": {
   "codemirror_mode": {
    "name": "ipython",
    "version": 3
   },
   "file_extension": ".py",
   "mimetype": "text/x-python",
   "name": "python",
   "nbconvert_exporter": "python",
   "pygments_lexer": "ipython3",
   "version": "3.9.12"
  }
 },
 "nbformat": 4,
 "nbformat_minor": 5
}
